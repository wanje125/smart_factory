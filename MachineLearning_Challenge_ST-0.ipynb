{
 "cells": [
  {
   "cell_type": "markdown",
   "metadata": {},
   "source": [
    "# 도전학기 '빅데이터와 인공지능을 활용한 시스템 강건설계' 머신러닝 챌런지!"
   ]
  },
  {
   "cell_type": "markdown",
   "metadata": {},
   "source": [
    "#### - 머신러닝 챌런지 목표 \n",
    ": 실습내용을 바탕으로 직접 인공지능 모델을 학습시키는 코드를 작성하는 능력 평가\n",
    "\n",
    "\n",
    "#### - 가이드에 따라 총 4단계의 머신러닝 챌런지를 수행하며, 각 단계의 결과값(csv 형태의 데이터 파일)을 1개 압축파일(.zip)로 제출\n",
    "- 과제 수행을 위해 최소한 가이드가 있으나 가이드에 따르지 않고 다른 방법으로 코드 작성해도 결과만 맞으면 무관\n",
    "\n",
    "#### - 데이터 출처\n",
    "- 베어링 마모 상태에 따라 수집된 센서데이터 (데이터챌린지와 동일)\n",
    "- 수집된 센서데이터의 특징 데이터 추출 및 t-test 완료\n",
    "- P-value 상위 특징값 선택 단계부터 수행\n",
    "- K-Fold 교차검증만 수행, 최종 모델 학습을 위한 전체 데이터 학습은 수행 X"
   ]
  },
  {
   "cell_type": "markdown",
   "metadata": {},
   "source": [
    ".\n",
    "\n",
    ".\n",
    "\n",
    ".\n",
    "\n"
   ]
  },
  {
   "cell_type": "markdown",
   "metadata": {},
   "source": [
    "### 필요한 라이브러리 import\n",
    "- numpy, pandas 등 필요한 라이브러리들 불러오기"
   ]
  },
  {
   "cell_type": "code",
   "execution_count": 1,
   "metadata": {},
   "outputs": [],
   "source": [
    "import pandas as pd\n",
    "import numpy as np\n",
    "import matplotlib.pyplot as plt"
   ]
  },
  {
   "cell_type": "markdown",
   "metadata": {},
   "source": [
    "### 데이터 불러오기\n",
    "- FeatureNormal, FeatureAbnormal 및 P_value 불러오기"
   ]
  },
  {
   "cell_type": "code",
   "execution_count": 2,
   "metadata": {},
   "outputs": [],
   "source": [
    "FeatureNormal   = pd.read_csv('ProcessedData/FeatureNormal', header = None)\n",
    "FeatureAbnormal = pd.read_csv('ProcessedData/FeatureAbnormal', header = None)\n",
    "P_value = pd.read_csv('ProcessedData/P_value', header = None)"
   ]
  },
  {
   "cell_type": "markdown",
   "metadata": {},
   "source": [
    "# [1단계] P-value 기반 구분성(유의수준↓) 상위 특징값 5개 선택 (10점)"
   ]
  },
  {
   "cell_type": "markdown",
   "metadata": {},
   "source": [
    "## 선택된 특징값은 하나의 데이터로 합치기\n",
    "\n",
    "#### [필수] 레이블 이름(변수명) : \n",
    "- FeatureSelected"
   ]
  },
  {
   "cell_type": "code",
   "execution_count": 5,
   "metadata": {},
   "outputs": [
    {
     "data": {
      "text/plain": [
       "(20, 150)"
      ]
     },
     "execution_count": 5,
     "metadata": {},
     "output_type": "execute_result"
    }
   ],
   "source": [
    "FeatureNormal.shape"
   ]
  },
  {
   "cell_type": "code",
   "execution_count": 3,
   "metadata": {},
   "outputs": [
    {
     "name": "stdout",
     "output_type": "stream",
     "text": [
      "Selected Feature Data Size : (5, 300)\n",
      "= 데이터 300개(정상/고장 각 150개씩)가 각각 5개의 최종 선택된 특징값으로 구성됨\n"
     ]
    }
   ],
   "source": [
    "# 특징값 선택 코드 작성\n",
    "Rank = 5\n",
    "NoOfData = int(FeatureNormal.shape[1])\n",
    "Normal   = np.zeros((Rank,NoOfData))\n",
    "Abnormal = np.zeros((Rank,NoOfData))\n",
    "\n",
    "for i in range(Rank):\n",
    "    \n",
    "    index         = int(P_value.iloc[i,0])\n",
    "    Normal[i,:]   = FeatureNormal.iloc[index,:].values\n",
    "    Abnormal[i,:] = FeatureAbnormal.iloc[index,:].values\n",
    "\n",
    "# 정상, 고장 특징값 합치기    \n",
    "FeatureSelected = pd.DataFrame(np.concatenate([Normal, Abnormal] , axis=1))\n",
    "\n",
    "print(\"Selected Feature Data Size :\", FeatureSelected.shape)\n",
    "print(\"= 데이터 %d개(정상/고장 각 %d개씩)가 각각 %d개의 최종 선택된 특징값으로 구성됨\"\n",
    "      %(FeatureSelected.shape[1], FeatureSelected.shape[1]/2, FeatureSelected.shape[0]))"
   ]
  },
  {
   "cell_type": "code",
   "execution_count": 4,
   "metadata": {},
   "outputs": [
    {
     "data": {
      "text/plain": [
       "(5, 300)"
      ]
     },
     "execution_count": 4,
     "metadata": {},
     "output_type": "execute_result"
    }
   ],
   "source": [
    "FeatureSelected.shape"
   ]
  },
  {
   "cell_type": "markdown",
   "metadata": {},
   "source": [
    "### 1단계 결과물 제출용 데이터 파일로 저장 (수강생 번호 외 코드수정X)\n",
    "\n",
    "- 위에서 데이터 이름(변수명) 가이드에 맞게 지정됐는지 재확인 요망\n",
    "- FeatureSelected의 shape는 (5, 300)"
   ]
  },
  {
   "cell_type": "code",
   "execution_count": 16,
   "metadata": {},
   "outputs": [],
   "source": [
    "StudentNo = 414   # 수강생 번호 입력\n",
    "\n",
    "# 아래는 수정 금지\n",
    "Path = './Result/ST%d_MC1'%StudentNo\n",
    "\n",
    "FeatureSelected.to_csv(Path, sep=',' , header=None , index=None)"
   ]
  },
  {
   "cell_type": "markdown",
   "metadata": {},
   "source": [
    "# [2단계] K-Fold 교차검증을 위한 Fold별 데이터 분할 생성 (5점)"
   ]
  },
  {
   "cell_type": "markdown",
   "metadata": {},
   "source": [
    "## 3개의 Fold로 나누어 교차검증\n",
    "\n",
    "\n",
    "#### [필수] 데이터 이름(변수명) : \n",
    "- Training_Fold1~3\n",
    "- Validation_Fold1~3"
   ]
  },
  {
   "cell_type": "code",
   "execution_count": 6,
   "metadata": {},
   "outputs": [
    {
     "name": "stdout",
     "output_type": "stream",
     "text": [
      "5 50\n"
     ]
    }
   ],
   "source": [
    "NoOfData   = int(FeatureSelected.shape[1]/2)   # 데이터 개수 (정상/고장 각각)\n",
    "Fold       = 3                   # Fold 개수 선정 : 데이터 개수의 약수여야 함.\n",
    "\n",
    "FeatNo     = int(FeatureSelected.shape[0])  # 데이터 특징 수 (=데이터 차원)\n",
    "FoldDataNo = int(NoOfData/Fold)            # 1개 Fold 당 (검증)데이터 개수\n",
    "\n",
    "print(FeatNo, FoldDataNo)"
   ]
  },
  {
   "cell_type": "code",
   "execution_count": 7,
   "metadata": {},
   "outputs": [
    {
     "data": {
      "text/plain": [
       "150"
      ]
     },
     "execution_count": 7,
     "metadata": {},
     "output_type": "execute_result"
    }
   ],
   "source": [
    "NoOfData"
   ]
  },
  {
   "cell_type": "code",
   "execution_count": 8,
   "metadata": {
    "scrolled": true
   },
   "outputs": [
    {
     "data": {
      "text/plain": [
       "(10, 150)"
      ]
     },
     "execution_count": 8,
     "metadata": {},
     "output_type": "execute_result"
    }
   ],
   "source": [
    "NormalSet   = np.array(FeatureSelected.iloc[: , :NoOfData])\n",
    "AbnormalSet = np.array(FeatureSelected.iloc[: , NoOfData:])\n",
    "FeatureSelected_Reshaped = pd.DataFrame(np.concatenate([NormalSet , AbnormalSet] , axis=0))\n",
    "FeatureSelected_Reshaped.shape"
   ]
  },
  {
   "cell_type": "code",
   "execution_count": null,
   "metadata": {},
   "outputs": [],
   "source": []
  },
  {
   "cell_type": "code",
   "execution_count": 9,
   "metadata": {},
   "outputs": [
    {
     "data": {
      "text/plain": [
       "array([[0., 0., 0.]])"
      ]
     },
     "execution_count": 9,
     "metadata": {},
     "output_type": "execute_result"
    }
   ],
   "source": [
    "q=np.zeros([1,3])\n",
    "q"
   ]
  },
  {
   "cell_type": "code",
   "execution_count": 10,
   "metadata": {},
   "outputs": [
    {
     "data": {
      "text/plain": [
       "(1, 3)"
      ]
     },
     "execution_count": 10,
     "metadata": {},
     "output_type": "execute_result"
    }
   ],
   "source": [
    "q.shape"
   ]
  },
  {
   "cell_type": "code",
   "execution_count": 11,
   "metadata": {},
   "outputs": [
    {
     "name": "stdout",
     "output_type": "stream",
     "text": [
      "0\n",
      "(5, 50)\n",
      "(100, 5)\n",
      "50\n",
      "(5, 50)\n",
      "(100, 5)\n",
      "100\n",
      "(5, 50)\n",
      "(100, 5)\n"
     ]
    }
   ],
   "source": [
    "# Validation Data set\n",
    "for i in range(Fold):\n",
    "    \n",
    "    temp_Valid_Normal   = FeatureSelected_Reshaped.iloc[:FeatNo , FoldDataNo*i : FoldDataNo*(i+1)]\n",
    "    print(FoldDataNo*i)\n",
    "    temp_Valid_Abnormal = FeatureSelected_Reshaped.iloc[FeatNo: , FoldDataNo*i : FoldDataNo*(i+1)]\n",
    "    print(temp_Valid_Normal.shape)\n",
    "    temp_Valid = pd.DataFrame(np.transpose(np.concatenate([temp_Valid_Normal, temp_Valid_Abnormal] , axis=1)))\n",
    "    print(temp_Valid.shape)\n",
    "    s = 'Validation_Fold%d = temp_Valid'%(i+1)\n",
    "    exec(s)\n",
    "\n",
    "    \n",
    "# Training Data set\n",
    "for i in range(Fold):\n",
    "    \n",
    "    temp_Train_Front = FeatureSelected_Reshaped.iloc[:,:FoldDataNo*i]\n",
    "    temp_Train_Back  = FeatureSelected_Reshaped.iloc[:,FoldDataNo*(i+1):]\n",
    "    temp_Train_Total = np.concatenate([temp_Train_Front , temp_Train_Back] , axis=1)\n",
    "    temp_Train_Final = pd.DataFrame(np.transpose(np.concatenate([temp_Train_Total[:FeatNo,:],temp_Train_Total[FeatNo:,:]] , axis=1)))\n",
    "    \n",
    "    s ='Training_Fold%d  = temp_Train_Final'%(i+1)\n",
    "    exec(s)"
   ]
  },
  {
   "cell_type": "code",
   "execution_count": 12,
   "metadata": {},
   "outputs": [],
   "source": [
    "# 데이터 분할 코드 작성\n",
    "\n",
    "\n"
   ]
  },
  {
   "cell_type": "code",
   "execution_count": 13,
   "metadata": {},
   "outputs": [
    {
     "name": "stdout",
     "output_type": "stream",
     "text": [
      "(200, 5) (100, 5)\n"
     ]
    }
   ],
   "source": [
    "print(Training_Fold1.shape, Validation_Fold1.shape)"
   ]
  },
  {
   "cell_type": "code",
   "execution_count": 14,
   "metadata": {},
   "outputs": [
    {
     "data": {
      "text/html": [
       "<div>\n",
       "<style scoped>\n",
       "    .dataframe tbody tr th:only-of-type {\n",
       "        vertical-align: middle;\n",
       "    }\n",
       "\n",
       "    .dataframe tbody tr th {\n",
       "        vertical-align: top;\n",
       "    }\n",
       "\n",
       "    .dataframe thead th {\n",
       "        text-align: right;\n",
       "    }\n",
       "</style>\n",
       "<table border=\"1\" class=\"dataframe\">\n",
       "  <thead>\n",
       "    <tr style=\"text-align: right;\">\n",
       "      <th></th>\n",
       "      <th>0</th>\n",
       "      <th>1</th>\n",
       "      <th>2</th>\n",
       "      <th>3</th>\n",
       "      <th>4</th>\n",
       "    </tr>\n",
       "  </thead>\n",
       "  <tbody>\n",
       "    <tr>\n",
       "      <th>0</th>\n",
       "      <td>1.648684</td>\n",
       "      <td>-1.585628</td>\n",
       "      <td>0.130675</td>\n",
       "      <td>0.176980</td>\n",
       "      <td>0.014246</td>\n",
       "    </tr>\n",
       "    <tr>\n",
       "      <th>1</th>\n",
       "      <td>1.881879</td>\n",
       "      <td>-2.068165</td>\n",
       "      <td>0.128735</td>\n",
       "      <td>0.175475</td>\n",
       "      <td>0.014219</td>\n",
       "    </tr>\n",
       "    <tr>\n",
       "      <th>2</th>\n",
       "      <td>1.417367</td>\n",
       "      <td>-1.214995</td>\n",
       "      <td>0.127826</td>\n",
       "      <td>0.172634</td>\n",
       "      <td>0.013463</td>\n",
       "    </tr>\n",
       "    <tr>\n",
       "      <th>3</th>\n",
       "      <td>1.412485</td>\n",
       "      <td>-1.015596</td>\n",
       "      <td>0.131654</td>\n",
       "      <td>0.173713</td>\n",
       "      <td>0.012843</td>\n",
       "    </tr>\n",
       "    <tr>\n",
       "      <th>4</th>\n",
       "      <td>2.149997</td>\n",
       "      <td>-1.623931</td>\n",
       "      <td>0.130003</td>\n",
       "      <td>0.172117</td>\n",
       "      <td>0.012723</td>\n",
       "    </tr>\n",
       "  </tbody>\n",
       "</table>\n",
       "</div>"
      ],
      "text/plain": [
       "          0         1         2         3         4\n",
       "0  1.648684 -1.585628  0.130675  0.176980  0.014246\n",
       "1  1.881879 -2.068165  0.128735  0.175475  0.014219\n",
       "2  1.417367 -1.214995  0.127826  0.172634  0.013463\n",
       "3  1.412485 -1.015596  0.131654  0.173713  0.012843\n",
       "4  2.149997 -1.623931  0.130003  0.172117  0.012723"
      ]
     },
     "execution_count": 14,
     "metadata": {},
     "output_type": "execute_result"
    }
   ],
   "source": [
    "Training_Fold1.head()"
   ]
  },
  {
   "cell_type": "markdown",
   "metadata": {},
   "source": [
    "### 2단계 결과물 제출용 데이터 파일로 저장 (수강생 번호 외 코드수정X)\n",
    "\n",
    "- 위에서 데이터 이름(변수명) 가이드에 맞게 지정됐는지 재확인 요망"
   ]
  },
  {
   "cell_type": "code",
   "execution_count": 26,
   "metadata": {},
   "outputs": [],
   "source": [
    "# StudentNo = 0   # 수강생 번호 입력\n",
    "\n",
    "# 아래는 수정 금지\n",
    "Path = './Result/ST%d_MC2'%StudentNo\n",
    "\n",
    "Training_Fold2.to_csv(Path, sep=',' , header=None , index=None)"
   ]
  },
  {
   "cell_type": "markdown",
   "metadata": {},
   "source": [
    "# [3단계] 모델 성능 검증을 위한 레이블 생성 (5점)"
   ]
  },
  {
   "cell_type": "markdown",
   "metadata": {},
   "source": [
    "## KNN, SVM 학습을 위한 레이블과 ANN 학습을 위한 레이블 모두 생성\n",
    "\n",
    "- 정상 조건의 레이블 : 0 또는 [1,0]\n",
    "- 고장 조건의 레이블 : 1 또는 [0,1]\n",
    "\n",
    "#### [필수] 레이블 이름(변수명) : \n",
    "- TrainingFold_Label / ValidationFold_Label\n",
    "- TrainingFold_Label_forANN / ValidationFold_Label_forANN"
   ]
  },
  {
   "cell_type": "markdown",
   "metadata": {},
   "source": [
    "#### (1) KNN & SVM 레이블 생성"
   ]
  },
  {
   "cell_type": "code",
   "execution_count": 15,
   "metadata": {},
   "outputs": [
    {
     "name": "stdout",
     "output_type": "stream",
     "text": [
      "100 50\n"
     ]
    }
   ],
   "source": [
    "NoOfLabel_Train = int(Training_Fold1.shape[0]/2)\n",
    "NoOfLabel_Valid = int(Validation_Fold1.shape[0]/2)\n",
    "\n",
    "print(NoOfLabel_Train, NoOfLabel_Valid)\n"
   ]
  },
  {
   "cell_type": "code",
   "execution_count": 16,
   "metadata": {},
   "outputs": [
    {
     "data": {
      "text/plain": [
       "0     0\n",
       "1     0\n",
       "2     0\n",
       "3     0\n",
       "4     0\n",
       "     ..\n",
       "95    1\n",
       "96    1\n",
       "97    1\n",
       "98    1\n",
       "99    1\n",
       "Length: 100, dtype: int32"
      ]
     },
     "execution_count": 16,
     "metadata": {},
     "output_type": "execute_result"
    }
   ],
   "source": [
    "# 레이블 생성 코드 작성\n",
    "TrainingFold_Label   = np.zeros(2*NoOfLabel_Train , dtype=int)\n",
    "ValidationFold_Label = np.zeros(2*NoOfLabel_Valid , dtype=int)\n",
    "\n",
    "# 고장데이터(학습용) Label 값 = 1\n",
    "TrainingFold_Label[NoOfLabel_Train:] = 1\n",
    "\n",
    "# 고장데이터(검증용) Label 값 = 1\n",
    "\n",
    "ValidationFold_Label[NoOfLabel_Valid:] = 1\n",
    "\n",
    "TrainingFold_Label   = pd.Series(TrainingFold_Label)\n",
    "ValidationFold_Label = pd.Series(ValidationFold_Label)\n",
    "\n",
    "#TrainingFold_Label\n",
    "ValidationFold_Label\n",
    "\n"
   ]
  },
  {
   "cell_type": "markdown",
   "metadata": {},
   "source": [
    "#### (2) ANN 레이블 생성"
   ]
  },
  {
   "cell_type": "code",
   "execution_count": 17,
   "metadata": {},
   "outputs": [
    {
     "data": {
      "text/html": [
       "<div>\n",
       "<style scoped>\n",
       "    .dataframe tbody tr th:only-of-type {\n",
       "        vertical-align: middle;\n",
       "    }\n",
       "\n",
       "    .dataframe tbody tr th {\n",
       "        vertical-align: top;\n",
       "    }\n",
       "\n",
       "    .dataframe thead th {\n",
       "        text-align: right;\n",
       "    }\n",
       "</style>\n",
       "<table border=\"1\" class=\"dataframe\">\n",
       "  <thead>\n",
       "    <tr style=\"text-align: right;\">\n",
       "      <th></th>\n",
       "      <th>0</th>\n",
       "      <th>1</th>\n",
       "    </tr>\n",
       "  </thead>\n",
       "  <tbody>\n",
       "    <tr>\n",
       "      <th>0</th>\n",
       "      <td>1</td>\n",
       "      <td>0</td>\n",
       "    </tr>\n",
       "    <tr>\n",
       "      <th>1</th>\n",
       "      <td>1</td>\n",
       "      <td>0</td>\n",
       "    </tr>\n",
       "    <tr>\n",
       "      <th>2</th>\n",
       "      <td>1</td>\n",
       "      <td>0</td>\n",
       "    </tr>\n",
       "    <tr>\n",
       "      <th>3</th>\n",
       "      <td>1</td>\n",
       "      <td>0</td>\n",
       "    </tr>\n",
       "    <tr>\n",
       "      <th>4</th>\n",
       "      <td>1</td>\n",
       "      <td>0</td>\n",
       "    </tr>\n",
       "    <tr>\n",
       "      <th>...</th>\n",
       "      <td>...</td>\n",
       "      <td>...</td>\n",
       "    </tr>\n",
       "    <tr>\n",
       "      <th>195</th>\n",
       "      <td>0</td>\n",
       "      <td>1</td>\n",
       "    </tr>\n",
       "    <tr>\n",
       "      <th>196</th>\n",
       "      <td>0</td>\n",
       "      <td>1</td>\n",
       "    </tr>\n",
       "    <tr>\n",
       "      <th>197</th>\n",
       "      <td>0</td>\n",
       "      <td>1</td>\n",
       "    </tr>\n",
       "    <tr>\n",
       "      <th>198</th>\n",
       "      <td>0</td>\n",
       "      <td>1</td>\n",
       "    </tr>\n",
       "    <tr>\n",
       "      <th>199</th>\n",
       "      <td>0</td>\n",
       "      <td>1</td>\n",
       "    </tr>\n",
       "  </tbody>\n",
       "</table>\n",
       "<p>200 rows × 2 columns</p>\n",
       "</div>"
      ],
      "text/plain": [
       "     0  1\n",
       "0    1  0\n",
       "1    1  0\n",
       "2    1  0\n",
       "3    1  0\n",
       "4    1  0\n",
       "..  .. ..\n",
       "195  0  1\n",
       "196  0  1\n",
       "197  0  1\n",
       "198  0  1\n",
       "199  0  1\n",
       "\n",
       "[200 rows x 2 columns]"
      ]
     },
     "execution_count": 17,
     "metadata": {},
     "output_type": "execute_result"
    }
   ],
   "source": [
    "# 레이블 생성 코드 작성\n",
    "TrainingFold_Label_forANN   = np.zeros((NoOfLabel_Train*2,2) , dtype=int)\n",
    "ValidationFold_Label_forANN = np.zeros((NoOfLabel_Valid*2,2) , dtype=int)\n",
    "\n",
    "TrainingFold_Label_forANN[:NoOfLabel_Train , 0] = 1    # 정상(학습)데이터 레이블 : [1,0]\n",
    "TrainingFold_Label_forANN[NoOfLabel_Train: , 1] = 1    # 고장(학습)데이터 레이블 : [0,1]\n",
    "\n",
    "ValidationFold_Label_forANN[:NoOfLabel_Valid , 0] = 1  # 정상(검증)데이터 레이블 : [1,0]\n",
    "ValidationFold_Label_forANN[NoOfLabel_Valid: , 1] = 1  # 고장(검증)데이터 레이블 : [0,1]\n",
    "\n",
    "TrainingFold_Label_forANN   = pd.DataFrame(TrainingFold_Label_forANN)\n",
    "ValidationFold_Label_forANN = pd.DataFrame(ValidationFold_Label_forANN)\n",
    "\n",
    "TrainingFold_Label_forANN\n",
    "#ValidationFold_Label_forANN\n",
    "\n"
   ]
  },
  {
   "cell_type": "markdown",
   "metadata": {},
   "source": [
    "### 3단계 결과물 제출용 데이터 파일로 저장 (수강생 번호 외 코드수정X)\n",
    "\n",
    "- 위에서 데이터 이름(변수명) 가이드에 맞게 지정됐는지 재확인 요망"
   ]
  },
  {
   "cell_type": "code",
   "execution_count": 31,
   "metadata": {},
   "outputs": [],
   "source": [
    "# StudentNo = 0   # 수강생 번호 입력\n",
    "\n",
    "# 아래는 수정 금지\n",
    "Path1 = './Result/ST%d_MC3_1'%StudentNo\n",
    "Path2 = './Result/ST%d_MC3_2'%StudentNo\n",
    "\n",
    "\n",
    "ValidationFold_Label.to_csv(     Path1, sep=',' , header=None , index=None)\n",
    "TrainingFold_Label_forANN.to_csv(Path2, sep=',' , header=None , index=None)"
   ]
  },
  {
   "cell_type": "markdown",
   "metadata": {},
   "source": [
    "# [4단계] 모델 학습 후 모델 검증 정확도 결과 확인 (10점)"
   ]
  },
  {
   "cell_type": "markdown",
   "metadata": {},
   "source": [
    "## KNN, SVM, ANN 각각 모델 검증 후 정확도를 DataFrame 형태로 저장 후 제출\n",
    "\n",
    "- 해당 DataFrame의 shape는 (3, 3)\n",
    "- 1열 : KNN 정확도 (행은 각 Fold 순서)\n",
    "- 2열 : SVM 정확도 (행은 각 Fold 순서)\n",
    "- 3열 : ANN 정확도 (행은 각 Fold 순서)\n",
    "\n",
    "#### [필수] DataFrame 이름(변수명) : \n",
    "- Total_Accuracy"
   ]
  },
  {
   "cell_type": "code",
   "execution_count": 18,
   "metadata": {},
   "outputs": [],
   "source": [
    "from sklearn.neighbors import KNeighborsClassifier\n",
    "import joblib"
   ]
  },
  {
   "cell_type": "code",
   "execution_count": 103,
   "metadata": {},
   "outputs": [],
   "source": [
    "Total_Accuracy = np.zeros((3, 3))"
   ]
  },
  {
   "cell_type": "markdown",
   "metadata": {},
   "source": [
    "#### (1) KNN 학습 및 검증\n",
    "- KNN Parameter : n_neighbors = 7"
   ]
  },
  {
   "cell_type": "code",
   "execution_count": 104,
   "metadata": {},
   "outputs": [],
   "source": [
    "a=np.zeros((2,2))"
   ]
  },
  {
   "cell_type": "code",
   "execution_count": 105,
   "metadata": {},
   "outputs": [
    {
     "data": {
      "text/plain": [
       "array([[0., 0.],\n",
       "       [0., 0.]])"
      ]
     },
     "execution_count": 105,
     "metadata": {},
     "output_type": "execute_result"
    }
   ],
   "source": [
    "a"
   ]
  },
  {
   "cell_type": "code",
   "execution_count": 106,
   "metadata": {},
   "outputs": [],
   "source": [
    "a[0,1]=0"
   ]
  },
  {
   "cell_type": "code",
   "execution_count": 107,
   "metadata": {},
   "outputs": [
    {
     "data": {
      "text/plain": [
       "array([[0., 0.],\n",
       "       [0., 0.]])"
      ]
     },
     "execution_count": 107,
     "metadata": {},
     "output_type": "execute_result"
    }
   ],
   "source": [
    "a"
   ]
  },
  {
   "cell_type": "code",
   "execution_count": 108,
   "metadata": {},
   "outputs": [
    {
     "data": {
      "text/plain": [
       "0     0\n",
       "1     0\n",
       "2     0\n",
       "3     0\n",
       "4     0\n",
       "     ..\n",
       "95    1\n",
       "96    1\n",
       "97    1\n",
       "98    1\n",
       "99    1\n",
       "Length: 100, dtype: int32"
      ]
     },
     "execution_count": 108,
     "metadata": {},
     "output_type": "execute_result"
    }
   ],
   "source": [
    "ValidationFold_Label"
   ]
  },
  {
   "cell_type": "code",
   "execution_count": 109,
   "metadata": {},
   "outputs": [
    {
     "data": {
      "text/html": [
       "<div>\n",
       "<style scoped>\n",
       "    .dataframe tbody tr th:only-of-type {\n",
       "        vertical-align: middle;\n",
       "    }\n",
       "\n",
       "    .dataframe tbody tr th {\n",
       "        vertical-align: top;\n",
       "    }\n",
       "\n",
       "    .dataframe thead th {\n",
       "        text-align: right;\n",
       "    }\n",
       "</style>\n",
       "<table border=\"1\" class=\"dataframe\">\n",
       "  <thead>\n",
       "    <tr style=\"text-align: right;\">\n",
       "      <th></th>\n",
       "      <th>0</th>\n",
       "      <th>1</th>\n",
       "      <th>2</th>\n",
       "      <th>3</th>\n",
       "      <th>4</th>\n",
       "    </tr>\n",
       "  </thead>\n",
       "  <tbody>\n",
       "    <tr>\n",
       "      <th>0</th>\n",
       "      <td>1.546920</td>\n",
       "      <td>-1.403503</td>\n",
       "      <td>0.138501</td>\n",
       "      <td>0.192596</td>\n",
       "      <td>0.017911</td>\n",
       "    </tr>\n",
       "    <tr>\n",
       "      <th>1</th>\n",
       "      <td>1.908916</td>\n",
       "      <td>-1.555211</td>\n",
       "      <td>0.131867</td>\n",
       "      <td>0.186068</td>\n",
       "      <td>0.017233</td>\n",
       "    </tr>\n",
       "    <tr>\n",
       "      <th>2</th>\n",
       "      <td>2.373429</td>\n",
       "      <td>-1.835721</td>\n",
       "      <td>0.128184</td>\n",
       "      <td>0.181971</td>\n",
       "      <td>0.016682</td>\n",
       "    </tr>\n",
       "    <tr>\n",
       "      <th>3</th>\n",
       "      <td>2.004297</td>\n",
       "      <td>-1.683262</td>\n",
       "      <td>0.123096</td>\n",
       "      <td>0.177577</td>\n",
       "      <td>0.016381</td>\n",
       "    </tr>\n",
       "    <tr>\n",
       "      <th>4</th>\n",
       "      <td>1.680228</td>\n",
       "      <td>-1.104218</td>\n",
       "      <td>0.120492</td>\n",
       "      <td>0.172376</td>\n",
       "      <td>0.015195</td>\n",
       "    </tr>\n",
       "    <tr>\n",
       "      <th>...</th>\n",
       "      <td>...</td>\n",
       "      <td>...</td>\n",
       "      <td>...</td>\n",
       "      <td>...</td>\n",
       "      <td>...</td>\n",
       "    </tr>\n",
       "    <tr>\n",
       "      <th>95</th>\n",
       "      <td>7.020054</td>\n",
       "      <td>-6.050879</td>\n",
       "      <td>0.149866</td>\n",
       "      <td>0.727640</td>\n",
       "      <td>0.507000</td>\n",
       "    </tr>\n",
       "    <tr>\n",
       "      <th>96</th>\n",
       "      <td>7.560045</td>\n",
       "      <td>-6.292711</td>\n",
       "      <td>0.147853</td>\n",
       "      <td>0.729995</td>\n",
       "      <td>0.511033</td>\n",
       "    </tr>\n",
       "    <tr>\n",
       "      <th>97</th>\n",
       "      <td>7.914156</td>\n",
       "      <td>-6.430150</td>\n",
       "      <td>0.152176</td>\n",
       "      <td>0.734719</td>\n",
       "      <td>0.516654</td>\n",
       "    </tr>\n",
       "    <tr>\n",
       "      <th>98</th>\n",
       "      <td>6.315587</td>\n",
       "      <td>-6.404615</td>\n",
       "      <td>0.152742</td>\n",
       "      <td>0.737743</td>\n",
       "      <td>0.520935</td>\n",
       "    </tr>\n",
       "    <tr>\n",
       "      <th>99</th>\n",
       "      <td>7.378671</td>\n",
       "      <td>-6.683247</td>\n",
       "      <td>0.151546</td>\n",
       "      <td>0.743109</td>\n",
       "      <td>0.529245</td>\n",
       "    </tr>\n",
       "  </tbody>\n",
       "</table>\n",
       "<p>100 rows × 5 columns</p>\n",
       "</div>"
      ],
      "text/plain": [
       "           0         1         2         3         4\n",
       "0   1.546920 -1.403503  0.138501  0.192596  0.017911\n",
       "1   1.908916 -1.555211  0.131867  0.186068  0.017233\n",
       "2   2.373429 -1.835721  0.128184  0.181971  0.016682\n",
       "3   2.004297 -1.683262  0.123096  0.177577  0.016381\n",
       "4   1.680228 -1.104218  0.120492  0.172376  0.015195\n",
       "..       ...       ...       ...       ...       ...\n",
       "95  7.020054 -6.050879  0.149866  0.727640  0.507000\n",
       "96  7.560045 -6.292711  0.147853  0.729995  0.511033\n",
       "97  7.914156 -6.430150  0.152176  0.734719  0.516654\n",
       "98  6.315587 -6.404615  0.152742  0.737743  0.520935\n",
       "99  7.378671 -6.683247  0.151546  0.743109  0.529245\n",
       "\n",
       "[100 rows x 5 columns]"
      ]
     },
     "execution_count": 109,
     "metadata": {},
     "output_type": "execute_result"
    }
   ],
   "source": [
    "Validation_Fold1"
   ]
  },
  {
   "cell_type": "code",
   "execution_count": 110,
   "metadata": {
    "scrolled": false
   },
   "outputs": [
    {
     "data": {
      "text/plain": [
       "0      0\n",
       "1      0\n",
       "2      0\n",
       "3      0\n",
       "4      0\n",
       "      ..\n",
       "195    1\n",
       "196    1\n",
       "197    1\n",
       "198    1\n",
       "199    1\n",
       "Length: 200, dtype: int32"
      ]
     },
     "execution_count": 110,
     "metadata": {},
     "output_type": "execute_result"
    }
   ],
   "source": [
    "TrainingFold_Label"
   ]
  },
  {
   "cell_type": "code",
   "execution_count": 111,
   "metadata": {
    "scrolled": false
   },
   "outputs": [
    {
     "data": {
      "text/plain": [
       "(200, 5)"
      ]
     },
     "execution_count": 111,
     "metadata": {},
     "output_type": "execute_result"
    }
   ],
   "source": [
    "Training_Fold1.shape"
   ]
  },
  {
   "cell_type": "code",
   "execution_count": 112,
   "metadata": {},
   "outputs": [
    {
     "data": {
      "text/plain": [
       "(200,)"
      ]
     },
     "execution_count": 112,
     "metadata": {},
     "output_type": "execute_result"
    }
   ],
   "source": [
    "TrainingFold_Label.shape"
   ]
  },
  {
   "cell_type": "code",
   "execution_count": 113,
   "metadata": {},
   "outputs": [
    {
     "name": "stdout",
     "output_type": "stream",
     "text": [
      "1.0\n",
      "1.0\n",
      "1.0\n"
     ]
    }
   ],
   "source": [
    "# KNN 코드 작성\n",
    "for i in range(Fold):\n",
    "    c1 = 'Training_CurrentFold = Training_Fold%d'%(i+1)\n",
    "    exec(c1)\n",
    "    c2 = 'Validation_CurrentFold = Validation_Fold%d'%(i+1)\n",
    "    exec(c2)    \n",
    "\n",
    "    knnModel_CurrentFold = KNeighborsClassifier(n_neighbors = 7).fit(Training_CurrentFold,TrainingFold_Label)\n",
    "    knnscore_Fold= knnModel_CurrentFold.score(Validation_CurrentFold , ValidationFold_Label)\n",
    "\n",
    "    print(knnscore_Fold)\n",
    "    \n",
    "    Total_Accuracy[i,0]=knnscore_Fold*100\n",
    "\n",
    "\n",
    "\n",
    "\n"
   ]
  },
  {
   "cell_type": "code",
   "execution_count": 114,
   "metadata": {
    "scrolled": true
   },
   "outputs": [
    {
     "data": {
      "text/plain": [
       "array([[100.,   0.,   0.],\n",
       "       [100.,   0.,   0.],\n",
       "       [100.,   0.,   0.]])"
      ]
     },
     "execution_count": 114,
     "metadata": {},
     "output_type": "execute_result"
    }
   ],
   "source": [
    "Total_Accuracy"
   ]
  },
  {
   "cell_type": "markdown",
   "metadata": {},
   "source": [
    "#### (2) SVM 학습 및 검증\n",
    "- SVM Parameter : kernel = sigmoid"
   ]
  },
  {
   "cell_type": "code",
   "execution_count": 115,
   "metadata": {},
   "outputs": [],
   "source": [
    "from sklearn import svm,metrics"
   ]
  },
  {
   "cell_type": "code",
   "execution_count": 116,
   "metadata": {},
   "outputs": [],
   "source": [
    "# SVM 코드 작성\n",
    "Add    = 0\n",
    "Divide = 0\n",
    "\n",
    "for i in range(Fold):\n",
    "    c1 = 'Training_CurrentFold = Training_Fold%d'%(i+1)\n",
    "    exec(c1)\n",
    "    c2 = 'Validation_CurrentFold = Validation_Fold%d'%(i+1)\n",
    "    exec(c2)    \n",
    "    \n",
    "    svmModel_CurrentFold = svm.SVC(kernel='linear')\n",
    "    svmModel_CurrentFold.fit(Training_CurrentFold , TrainingFold_Label)\n",
    "    Predicted = np.array(svmModel_CurrentFold.predict(Validation_CurrentFold))\n",
    "    \n",
    "    svmscore_Fold = metrics.accuracy_score(ValidationFold_Label , Predicted)\n",
    "    exec(c3)\n",
    "\n",
    "    Total_Accuracy[i,1]=svmscore_Fold*100\n",
    "\n",
    "\n",
    "\n",
    "\n",
    "\n"
   ]
  },
  {
   "cell_type": "code",
   "execution_count": 117,
   "metadata": {},
   "outputs": [
    {
     "data": {
      "text/plain": [
       "array([[100., 100.,   0.],\n",
       "       [100., 100.,   0.],\n",
       "       [100., 100.,   0.]])"
      ]
     },
     "execution_count": 117,
     "metadata": {},
     "output_type": "execute_result"
    }
   ],
   "source": [
    "Total_Accuracy"
   ]
  },
  {
   "cell_type": "markdown",
   "metadata": {},
   "source": [
    "#### (3) ANN 학습 및 검증\n",
    "\n",
    "##### [필수] 재현성을 위해 for구문 내 seed를 777로 고정\n",
    "\n",
    "ANN Parameter\n",
    "- learningRate : 0.01\n",
    "- noOfNeuron   : 8\n",
    "- iteration    : 3\n",
    "- Hidden Layer 수 : 1개"
   ]
  },
  {
   "cell_type": "code",
   "execution_count": 118,
   "metadata": {},
   "outputs": [],
   "source": [
    "import tensorflow as tf\n",
    "from tensorflow import keras\n",
    "tf.random.set_seed(777)"
   ]
  },
  {
   "cell_type": "code",
   "execution_count": 119,
   "metadata": {},
   "outputs": [],
   "source": [
    "# ANN 코드 작성\n",
    "learningRate  = 0.01\n",
    "noOfNeuron    = 8\n",
    "iteration     = 3\n",
    "def ANN_model(input_data):\n",
    "    model = keras.Sequential()\n",
    "    model.add(keras.layers.Dense(units = noOfNeuron,\n",
    "                                 input_shape = (input_data.shape[1],), activation = 'relu'))    # Hidden Layer 1\n",
    "    model.add(keras.layers.Dense(units = 2,                            activation = 'softmax')) # Output Layer\n",
    "    \n",
    "    \n",
    "    \n",
    "    model.compile(optimizer= keras.optimizers.Adam(learning_rate = learningRate),\n",
    "                  loss=keras.losses.categorical_crossentropy,\n",
    "                  metrics=['accuracy'])\n",
    "    return model\n",
    "\n",
    "\n"
   ]
  },
  {
   "cell_type": "code",
   "execution_count": 120,
   "metadata": {},
   "outputs": [
    {
     "name": "stdout",
     "output_type": "stream",
     "text": [
      "[Reslut of K-fold Cross Validation] \n",
      "\n",
      "Fold 1: 50.00%\n",
      "Fold 2: 50.00%\n",
      "Fold 3: 50.00%\n",
      "* Average accuracy : 50.00%\n"
     ]
    }
   ],
   "source": [
    "Label        = TrainingFold_Label_forANN\n",
    "Label_Val    = ValidationFold_Label_forANN\n",
    "Accuracy_sum = 0\n",
    "\n",
    "print('[Reslut of K-fold Cross Validation] \\n')\n",
    "\n",
    "for i in range(Fold):\n",
    "    tf.random.set_seed(777)\n",
    "    \n",
    "    s1= 'Data     = Training_Fold%d'  %(i+1)\n",
    "    s2= 'Data_Val = Validation_Fold%d'%(i+1)\n",
    "    exec(s1)\n",
    "    exec(s2)\n",
    "    \n",
    "    model = ANN_model(Data)\n",
    "    \n",
    "# train my model\n",
    "    hist = model.fit(Data, Label, epochs=iteration, verbose = 0)\n",
    "    Loss, Accuracy = model.evaluate(Data_Val,  Label_Val, verbose=0)\n",
    "    Accuracy_sum = Accuracy_sum + Accuracy\n",
    "    print('Fold {}: {:.2f}%'.format((i+1), Accuracy*100))\n",
    "    Total_Accuracy[i,2]=Accuracy*100\n",
    "\n",
    "print('* Average accuracy : {:.2f}%'.format((Accuracy_sum/Fold)*100))"
   ]
  },
  {
   "cell_type": "code",
   "execution_count": 121,
   "metadata": {},
   "outputs": [
    {
     "data": {
      "text/html": [
       "<div>\n",
       "<style scoped>\n",
       "    .dataframe tbody tr th:only-of-type {\n",
       "        vertical-align: middle;\n",
       "    }\n",
       "\n",
       "    .dataframe tbody tr th {\n",
       "        vertical-align: top;\n",
       "    }\n",
       "\n",
       "    .dataframe thead th {\n",
       "        text-align: right;\n",
       "    }\n",
       "</style>\n",
       "<table border=\"1\" class=\"dataframe\">\n",
       "  <thead>\n",
       "    <tr style=\"text-align: right;\">\n",
       "      <th></th>\n",
       "      <th>0</th>\n",
       "      <th>1</th>\n",
       "      <th>2</th>\n",
       "    </tr>\n",
       "  </thead>\n",
       "  <tbody>\n",
       "    <tr>\n",
       "      <th>0</th>\n",
       "      <td>100.0</td>\n",
       "      <td>100.0</td>\n",
       "      <td>50.0</td>\n",
       "    </tr>\n",
       "    <tr>\n",
       "      <th>1</th>\n",
       "      <td>100.0</td>\n",
       "      <td>100.0</td>\n",
       "      <td>50.0</td>\n",
       "    </tr>\n",
       "    <tr>\n",
       "      <th>2</th>\n",
       "      <td>100.0</td>\n",
       "      <td>100.0</td>\n",
       "      <td>50.0</td>\n",
       "    </tr>\n",
       "  </tbody>\n",
       "</table>\n",
       "</div>"
      ],
      "text/plain": [
       "       0      1     2\n",
       "0  100.0  100.0  50.0\n",
       "1  100.0  100.0  50.0\n",
       "2  100.0  100.0  50.0"
      ]
     },
     "execution_count": 121,
     "metadata": {},
     "output_type": "execute_result"
    }
   ],
   "source": [
    "Total_Accuracy = pd.DataFrame(Total_Accuracy)\n",
    "Total_Accuracy"
   ]
  },
  {
   "cell_type": "markdown",
   "metadata": {},
   "source": [
    "### 4단계 결과물 제출용 데이터 파일로 저장 (수강생 번호 외 코드수정X)\n",
    "\n",
    "- 위에서 데이터 이름(변수명) 가이드에 맞게 지정됐는지 재확인 요망"
   ]
  },
  {
   "cell_type": "code",
   "execution_count": 122,
   "metadata": {},
   "outputs": [],
   "source": [
    "StudentNo = 414   # 수강생 번호 입력\n",
    "\n",
    "# 아래는 수정 금지\n",
    "Path = './Result/ST%d_MC4'%StudentNo\n",
    "\n",
    "Total_Accuracy.to_csv(Path, sep=',' , header=None , index=None)"
   ]
  },
  {
   "cell_type": "markdown",
   "metadata": {},
   "source": [
    ".\n",
    "\n",
    ".\n",
    "\n",
    ".\n",
    "\n"
   ]
  },
  {
   "cell_type": "markdown",
   "metadata": {},
   "source": [
    "# * 결과 데이터(MC1~4)를 하나의 zip파일로 압축하여 제출\n",
    "\n",
    "### >>> 압축파일 이름 ST(수강생 번호)_MC (예시 : 'ST000_MC.zip'  //  'ST00_MC.zip'  //  'ST0_MC.zip')"
   ]
  },
  {
   "cell_type": "markdown",
   "metadata": {},
   "source": [
    ".\n",
    "\n",
    ".\n",
    "\n",
    ".\n",
    "\n"
   ]
  },
  {
   "cell_type": "markdown",
   "metadata": {},
   "source": [
    "수고하셨습니다!"
   ]
  }
 ],
 "metadata": {
  "kernelspec": {
   "display_name": "Python 3",
   "language": "python",
   "name": "python3"
  },
  "language_info": {
   "codemirror_mode": {
    "name": "ipython",
    "version": 3
   },
   "file_extension": ".py",
   "mimetype": "text/x-python",
   "name": "python",
   "nbconvert_exporter": "python",
   "pygments_lexer": "ipython3",
   "version": "3.9.1"
  }
 },
 "nbformat": 4,
 "nbformat_minor": 4
}
